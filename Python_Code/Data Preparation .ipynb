{
 "cells": [
  {
   "cell_type": "code",
   "execution_count": 32,
   "metadata": {},
   "outputs": [
    {
     "name": "stderr",
     "output_type": "stream",
     "text": [
      "Skipping line 3135037: unexpected end of data\n",
      "Skipping line 3135066: unexpected end of data\n",
      "Skipping line 3135074: unexpected end of data\n"
     ]
    }
   ],
   "source": [
    "import pandas as pd\n",
    "from pandas.core.common import flatten\n",
    "import numpy as np\n",
    "import random\n",
    "np.set_printoptions(suppress=True)\n",
    "\n"
   ]
  },
  {
   "cell_type": "markdown",
   "metadata": {},
   "source": [
    "### Loading the data"
   ]
  },
  {
   "cell_type": "code",
   "execution_count": 40,
   "metadata": {},
   "outputs": [],
   "source": [
    "data = pd.read_csv ('../Experiments/model experiment-table2.csv', skiprows=6, nrows=3135000, engine='python', error_bad_lines=False)\n",
    "#get data for different agents\n",
    "security = data.iloc[:, 16:]\n",
    "criminal = data.iloc[:, 5:16]\n",
    "meta = data.iloc[:,:5]"
   ]
  },
  {
   "cell_type": "markdown",
   "metadata": {},
   "source": [
    "### convert the memory from a string to array of strings "
   ]
  },
  {
   "cell_type": "code",
   "execution_count": 41,
   "metadata": {},
   "outputs": [],
   "source": [
    "#converts memory from one string to an array of strings for each item in memory. Then sort according to last seen \n",
    "def sort_memory(row):\n",
    "    new_row = row.split('] [')\n",
    "    new_row[0] = new_row[0][2:]\n",
    "    new_row[-1] = new_row[-1][:-2]\n",
    "    n_values = len(new_row)\n",
    "    new_row = np.array(new_row)\n",
    "    new_row = new_row[::-1]\n",
    "    return(new_row)\n",
    "\n",
    "#create new array for memory\n",
    "memory_security = security['memory-security']\n",
    "memory_criminal = criminal['memory-criminal']\n",
    "\n",
    "memory_security = memory_security.apply(sort_memory)\n",
    "memory_criminal = memory_criminal.apply(sort_memory)"
   ]
  },
  {
   "cell_type": "markdown",
   "metadata": {},
   "source": [
    "### Pad the memory \n",
    "\n",
    "Since we want to have a memory of uniform size, no matter how many people a person has seen we need to pad those with smaller memories "
   ]
  },
  {
   "cell_type": "code",
   "execution_count": 42,
   "metadata": {},
   "outputs": [],
   "source": [
    "\n",
    "#pad memory\n",
    "def padded_memory(memory, memory_size, printing=False):\n",
    "    \n",
    "    length = memory.shape[0]\n",
    "    padding = np.zeros((length,memory_size*6))\n",
    "    indexes_for_mem =  []\n",
    "    \n",
    "    for row in range(length):\n",
    "        if len(memory[row]) > memory_size:\n",
    "            memory[row] = memory[row][:memory_size] # if we make the memory smaller than what we have captured\n",
    "            \n",
    "        memory_items = []\n",
    "        \n",
    "        if memory[row][0] != '': # here sample indicies to put memories in random order \n",
    "            memory_indexes = random.sample(range(0, padding.shape[1]//6), len(memory[row]))\n",
    "        else:\n",
    "            memory_indexes = []\n",
    "            \n",
    "        indexes_for_mem.append(memory_indexes)\n",
    "        \n",
    "        for index, memory_index in enumerate(memory_indexes):\n",
    "           \n",
    "            value = memory[row][index]  #get array, and split it into numbers\n",
    "            split = value.strip('[')\n",
    "            split = split.split(' ')\n",
    "            items_needed = []\n",
    "            \n",
    "            #select items and deal with nobodys if they exist\n",
    "            if split[0] != \"nobody\":\n",
    "                items_needed.append(split[2:5])\n",
    "                items_needed.append(split[9:])\n",
    "            elif split[0] == \"nobody\":\n",
    "                items_needed.append(split[1:4])\n",
    "                items_needed.append(split[8:])\n",
    "                \n",
    "            #put them into an array for all items in that row of the memory\n",
    "            items_needed = np.array(list(flatten(items_needed)),dtype=float)\n",
    "            for i in range(len(items_needed)):\n",
    "                padding[row, memory_index*6 + i] = items_needed[i]\n",
    "    \n",
    "    return(padding, indexes_for_mem)"
   ]
  },
  {
   "cell_type": "code",
   "execution_count": 43,
   "metadata": {
    "scrolled": true
   },
   "outputs": [],
   "source": [
    "memory_size = 20\n",
    "\n",
    "padded_criminal_memory, crim_indexes = padded_memory(memory_criminal,memory_size)\n",
    "padded_security_memory, sec_indexes = padded_memory(memory_security,memory_size)"
   ]
  },
  {
   "cell_type": "code",
   "execution_count": 44,
   "metadata": {},
   "outputs": [],
   "source": [
    "#creates input data with the padded memory items and other items pulled from data\n",
    "other_items_criminal = criminal[[\"current-x-cor-criminal\",\"current-y-cor-criminal\",\"criminal-cash\",\"current-platform-criminal\"]].values\n",
    "other_items_security = security[[\"current-x-cor-security\",\"current-y-cor-security\",\"current-platform-security\"]].values\n",
    "\n",
    "n_data_points_crim  = padded_criminal_memory.shape[0]\n",
    "n_data_points_sec = padded_security_memory.shape[0]\n",
    "\n",
    "n_additional_inputs_crim = other_items_criminal.shape[1]\n",
    "n_additional_inputs_sec = other_items_security.shape[1]\n",
    "\n",
    "\n",
    "input_data_crim = np.zeros((n_data_points_crim,memory_size*6+n_additional_inputs_crim))\n",
    "input_data_sec = np.zeros((n_data_points_sec,memory_size*6+n_additional_inputs_sec))\n",
    "\n",
    "input_data_crim[:,:memory_size*6] = padded_criminal_memory\n",
    "input_data_crim[:,memory_size*6:] = other_items_criminal\n",
    "\n",
    "input_data_sec[:,:memory_size*6] = padded_security_memory\n",
    "input_data_sec[:,memory_size*6:] = other_items_security"
   ]
  },
  {
   "cell_type": "code",
   "execution_count": 45,
   "metadata": {},
   "outputs": [],
   "source": [
    "target_security = security[['target-security']].values\n",
    "objective_security = security[['objective-security']].values\n",
    "\n",
    "target_criminal = criminal[['target-criminal']].values\n",
    "objective_criminal = criminal[['objective-criminal']].values\n",
    "\n",
    "#doesn't take the padded memory as an input, takes the sort_memory output \n",
    "def get_one_hot(target,objective,memory,memory_size, mem_index):\n",
    "    n_data_points = memory.shape[0]\n",
    "    \n",
    "    #create an array for one-hot indices\n",
    "    one_hot_indices = np.zeros(n_data_points)\n",
    "    \n",
    "    #for each in objective insert according index to indices \n",
    "    #try-except deals with a value error when the target can't be found as an item in the memory\n",
    "    for i in range(n_data_points):\n",
    "\n",
    "        mem_i = mem_index[i]\n",
    "        \n",
    "        if objective[i] == 'investigate':\n",
    "            \n",
    "            index = np.array(np.where(memory[i] == target[i][0][1:-1]))[0]\n",
    "            if len(index) > 0:\n",
    "                index = index[0]\n",
    " \n",
    "            try:\n",
    "                one_hot_indices[i] = mem_i[index]\n",
    "            except :\n",
    "                one_hot_indices[i] = memory_size*2\n",
    "        if objective[i] == 'arrest_target' or objective[i] == 'steal_from_target':\n",
    "            index = np.array(np.where(memory[i] == target[i][0][1:-1]))[0]\n",
    "            if len(index) > 0:\n",
    "                index = index[0]\n",
    "  \n",
    "            try:\n",
    "                one_hot_indices[i]= memory_size +  mem_i[index]\n",
    "            except :\n",
    "                one_hot_indices[i] = memory_size*2\n",
    "        if objective[i] == 'explore':\n",
    "            one_hot_indices[i] = memory_size*2\n",
    "        if objective[i] == 'leave':\n",
    "            one_hot_indices[i] = memory_size*2 + 1\n",
    "        \n",
    "\n",
    "    \n",
    "    return(one_hot_indices)\n",
    "\n",
    "one_hot_sec = get_one_hot(target_security,objective_security,memory_security,memory_size, sec_indexes)\n",
    "one_hot_crim = get_one_hot(target_criminal,objective_criminal,memory_criminal,memory_size, crim_indexes)\n",
    "        "
   ]
  },
  {
   "cell_type": "code",
   "execution_count": 47,
   "metadata": {},
   "outputs": [],
   "source": [
    "#save to file\n",
    "\n",
    "np.savetxt(\"../Data/target_sec_large.csv\", one_hot_sec, delimiter=\",\")\n",
    "np.savetxt(\"../Data/target_crim_large.csv\", one_hot_crim, delimiter=\",\")\n",
    "np.savetxt(\"../Data/input_data_sec_large.csv\", input_data_sec, delimiter=\",\")\n",
    "np.savetxt(\"../Data/input_data_crim_large.csv\", input_data_crim, delimiter=\",\")"
   ]
  }
 ],
 "metadata": {
  "kernelspec": {
   "display_name": "Python 3",
   "language": "python",
   "name": "python3"
  },
  "language_info": {
   "codemirror_mode": {
    "name": "ipython",
    "version": 3
   },
   "file_extension": ".py",
   "mimetype": "text/x-python",
   "name": "python",
   "nbconvert_exporter": "python",
   "pygments_lexer": "ipython3",
   "version": "3.7.6"
  }
 },
 "nbformat": 4,
 "nbformat_minor": 4
}
